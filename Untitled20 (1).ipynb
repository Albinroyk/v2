{
  "nbformat": 4,
  "nbformat_minor": 0,
  "metadata": {
    "colab": {
      "provenance": []
    },
    "kernelspec": {
      "name": "python3",
      "display_name": "Python 3"
    },
    "language_info": {
      "name": "python"
    }
  },
  "cells": [
    {
      "cell_type": "code",
      "source": [
        "import pandas as pd\n",
        "from sklearn.model_selection import train_test_split\n",
        "from sklearn.ensemble import RandomForestClassifier\n",
        "\n",
        "# Load the data\n",
        "train_df = pd.read_csv(\"/content/train_ctrUa4K.csv\")\n",
        "test_df = pd.read_csv(\"/content/test_lAUu6dG.csv\")\n",
        "\n",
        "# Combine train and test data for preprocessing\n",
        "combined_df = pd.concat([train_df, test_df], axis=0, ignore_index=True)\n",
        "\n",
        "# Fill missing values\n",
        "combined_df['Gender'].fillna(combined_df['Gender'].mode()[0], inplace=True)\n",
        "combined_df['Married'].fillna(combined_df['Married'].mode()[0], inplace=True)\n",
        "combined_df['Dependents'].fillna(combined_df['Dependents'].mode()[0], inplace=True)\n",
        "combined_df['Self_Employed'].fillna(combined_df['Self_Employed'].mode()[0], inplace=True)\n",
        "combined_df['Credit_History'].fillna(combined_df['Credit_History'].mode()[0], inplace=True)\n",
        "combined_df['LoanAmount'].fillna(combined_df['LoanAmount'].median(), inplace=True)\n",
        "combined_df['Loan_Amount_Term'].fillna(combined_df['Loan_Amount_Term'].mode()[0], inplace=True)\n",
        "\n",
        "# Encode categorical variables\n",
        "cat_cols = ['Gender', 'Married', 'Dependents', 'Education', 'Self_Employed', 'Credit_History', 'Property_Area']\n",
        "combined_df = pd.get_dummies(combined_df, columns=cat_cols, drop_first=True)\n",
        "\n",
        "# Splitting back into train and test\n",
        "train_df = combined_df[:train_df.shape[0]]\n",
        "test_df = combined_df[train_df.shape[0]:]\n",
        "\n",
        "# Selecting features and target variable\n",
        "X = train_df.drop(['Loan_ID', 'Loan_Status'], axis=1)\n",
        "y = train_df['Loan_Status']\n",
        "\n",
        "# Splitting data into train and validation sets\n",
        "X_train, X_val, y_train, y_val = train_test_split(X, y, test_size=0.2, random_state=42)\n",
        "\n",
        "# Model training\n",
        "model = RandomForestClassifier(n_estimators=100, random_state=42)\n",
        "model.fit(X_train, y_train)\n",
        "\n",
        "# Predictions on validation set\n",
        "y_pred = model.predict(X_val)\n",
        "\n",
        "# Calculate accuracy\n",
        "accuracy = model.score(X_val, y_val)\n",
        "print(\"Accuracy:\", accuracy)\n",
        "\n",
        "# Predictions on test set\n",
        "test_X = test_df.drop(['Loan_ID', 'Loan_Status'], axis=1)\n",
        "test_predictions = model.predict(test_X)\n",
        "\n",
        "# Create submission file\n",
        "submission_df = pd.DataFrame({'Loan_ID': test_df['Loan_ID'], 'Loan_Status': test_predictions})\n",
        "submission_df.to_csv(\"submission.csv\", index=False)"
      ],
      "metadata": {
        "colab": {
          "base_uri": "https://localhost:8080/"
        },
        "id": "lZS-fRetYYxl",
        "outputId": "85231da9-ce47-4785-f172-9aba94a5c162"
      },
      "execution_count": 10,
      "outputs": [
        {
          "output_type": "stream",
          "name": "stdout",
          "text": [
            "Accuracy: 0.7804878048780488\n"
          ]
        }
      ]
    }
  ]
}